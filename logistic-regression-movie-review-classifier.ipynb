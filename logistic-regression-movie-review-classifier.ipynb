{
 "cells": [
  {
   "cell_type": "code",
   "execution_count": null,
   "metadata": {
    "_cell_guid": "b1076dfc-b9ad-4769-8c92-a6c4dae69d19",
    "_uuid": "8f2839f25d086af736a60e9eeb907d3b93b6e0e5"
   },
   "outputs": [],
   "source": [
    "import numpy as np \n",
    "import pandas as pd \n",
    "from scipy.sparse import csr_matrix\n",
    "from tqdm import tqdm, trange\n",
    "from sklearn.datasets import load_svmlight_file\n",
    "\n",
    "\n",
    "import os\n",
    "print(os.listdir(\"../input/movie-ratings\"))\n"
   ]
  },
  {
   "cell_type": "code",
   "execution_count": null,
   "metadata": {
    "_cell_guid": "79c7e3d0-c299-4dcb-8224-4455121ee9b0",
    "_uuid": "d629ff2d2480ee46fbb7e2d37f6b5fab8052498a"
   },
   "outputs": [],
   "source": [
    "training_data, training_labels = load_svmlight_file('../input/movie-ratings/movie-ratings/data-splits/data.train')\n",
    "testing_data, testing_labels = load_svmlight_file('../input/movie-ratings/movie-ratings/data-splits/data.test')\n",
    "testing_data = csr_matrix((testing_data.data, testing_data.indices, testing_data.indptr), shape=(testing_data.shape[0], training_data.shape[1]))"
   ]
  },
  {
   "cell_type": "code",
   "execution_count": null,
   "metadata": {
    "_uuid": "1251c31a55706de89be3889b920f40f75ec6f20e"
   },
   "outputs": [],
   "source": [
    "print(training_data.shape, training_labels.shape)\n",
    "print(testing_data.shape, testing_labels.shape)"
   ]
  },
  {
   "cell_type": "code",
   "execution_count": null,
   "metadata": {
    "_uuid": "3609f58bf349c7b87265e8427a29e8029836140b"
   },
   "outputs": [],
   "source": [
    "class Softmax:\n",
    "    def __init__(self, learning_rate=0.1, reg_const=0.05, num_iters=10, batch_size=200):\n",
    "        self.W = None\n",
    "        self.learning_rate =  learning_rate\n",
    "        self.reg_const =  reg_const\n",
    "        self.num_iters = num_iters\n",
    "        self.batch_size = batch_size\n",
    "        \n",
    "    def loss(self,X_batch, y_batch):\n",
    "        \n",
    "        num_train = X_batch.shape[0]\n",
    "        num_classes = self.W.shape[1]\n",
    "        \n",
    "        scores = X_batch.dot(self.W)\n",
    "        shift_scores = scores - np.max(scores, axis = 1).reshape(-1,1)\n",
    "        softmax_output = np.exp(shift_scores)/np.sum(np.exp(shift_scores), axis = 1).reshape(-1,1)\n",
    "        loss = -np.sum(np.log(softmax_output[range(num_train), y_batch]))\n",
    "        loss += 0.5 * self.reg_const * np.sum(self.W*self.W)\n",
    "        \n",
    "        dS = softmax_output.copy()\n",
    "        dS[range(num_train), y_batch] += -1\n",
    "        dW = (X_batch.T).dot(dS)\n",
    "        dW = dW/num_train + self.reg_const * self.W\n",
    "        \n",
    "        return loss, dW\n",
    "    \n",
    "    def fit(self, X, y, **kwargs):\n",
    "        if kwargs:\n",
    "            self.learning_rate =  kwargs['learning_rate']\n",
    "            self.reg_const =  kwargs['reg_const']\n",
    "            self.num_iters = kwargs['num_iters']\n",
    "            self.batch_size = kwargs['batch_size']\n",
    "        \n",
    "        num_train, dim = X.shape\n",
    "        num_classes = 2\n",
    "        if self.W is None:\n",
    "    \n",
    "          self.W = 0.001 * np.random.randn(int(dim), int(num_classes))\n",
    "\n",
    "        for it in trange(self.num_iters, mininterval=5):\n",
    "            batch_idx = np.random.choice(num_train, self.batch_size, replace = True)\n",
    "            X_batch =  X[batch_idx]\n",
    "            y_batch = y[batch_idx]\n",
    "        \n",
    "            loss, grad = self.loss(X_batch, y_batch.astype(int))\n",
    "        \n",
    "            self.W += - self.learning_rate * grad\n",
    "    \n",
    "    def get_params(self, deep = False):\n",
    "        return {'learning_rate': self.learning_rate, 'reg_const': self.reg_const, \n",
    "                'num_iters':self.num_iters, 'batch_size':self.batch_size}\n",
    "    \n",
    "    def set_params(self, **parameters):\n",
    "        for parameter, value in parameters.items():\n",
    "            setattr(self, parameter, value)\n",
    "        return self\n",
    "    \n",
    "    def predict(self, X):\n",
    "        scores = X.dot(self.W)\n",
    "        y_pred = np.argmax(scores, axis =1)\n",
    "        return y_pred\n",
    "    \n",
    "    def score(self, X, y):\n",
    "        assert X.shape[0] == y.shape[0]\n",
    "        correct = sum(1 for actual, prediction in zip(y, self.predict(X)) if np.sign(actual) == np.sign(prediction))\n",
    "        return correct/X.shape[0]"
   ]
  },
  {
   "cell_type": "code",
   "execution_count": null,
   "metadata": {
    "_kg_hide-output": true,
    "_uuid": "1175051653fb97909c327e8022ebfd31e9d9c671",
    "scrolled": false
   },
   "outputs": [],
   "source": [
    "softmax = Softmax()\n",
    "softmax.fit(training_data, training_labels, learning_rate=0.01, reg_const=0.05, num_iters=20000, batch_size=200)"
   ]
  },
  {
   "cell_type": "code",
   "execution_count": null,
   "metadata": {
    "_uuid": "dbebcb08c80a08fb81f2e4df6a4bdc4b57df3460"
   },
   "outputs": [],
   "source": [
    "softmax.score(testing_data, testing_labels)"
   ]
  },
  {
   "cell_type": "code",
   "execution_count": null,
   "metadata": {
    "_uuid": "4dd2ad73bd5a915a643361653bac2cb865632555"
   },
   "outputs": [],
   "source": [
    "from sklearn.model_selection import cross_val_score, GridSearchCV\n",
    "clf = GridSearchCV(Softmax(), param_grid={'learning_rate':[0.0001, 0.0005, 0.001], 'reg_const':[0.0001,0.001,0.01,0.1], 'num_iters':[20000], 'batch_size':[200]}, cv=5, scoring='accuracy', n_jobs=-1)\n",
    "clf.fit(testing_data, testing_labels)"
   ]
  },
  {
   "cell_type": "code",
   "execution_count": null,
   "metadata": {
    "_uuid": "db3835e865350967d29d74c9486cc5abc20d9214"
   },
   "outputs": [],
   "source": [
    "print(clf.best_params_)\n",
    "print(clf.best_score_)"
   ]
  },
  {
   "cell_type": "code",
   "execution_count": null,
   "metadata": {
    "_uuid": "d3ce5941c7faaeaf58ade54f7f946f48550f2fab"
   },
   "outputs": [],
   "source": [
    "cross_val_score(Softmax(), training_data, y=training_labels, scoring='accuracy', \n",
    "                fit_params=clf.best_params_, cv=5, n_jobs=-1)"
   ]
  },
  {
   "cell_type": "code",
   "execution_count": null,
   "metadata": {
    "_uuid": "670171e3d4904143b7a73de17a8be4e907d2f1f9"
   },
   "outputs": [],
   "source": [
    "clf.best_estimator_.score(testing_data, testing_labels)"
   ]
  },
  {
   "cell_type": "code",
   "execution_count": null,
   "metadata": {
    "_uuid": "9f62f00f186c374e0735c409978b152ee06c4e80"
   },
   "outputs": [],
   "source": [
    "softmax = clf.best_estimator_\n",
    "eval_data, _ = load_svmlight_file('../input/movie-ratings/movie-ratings/data-splits/data.eval.anon')\n",
    "eval_data = csr_matrix((eval_data.data, eval_data.indices, eval_data.indptr), shape=(eval_data.shape[0], training_data.shape[1]))\n",
    "submission_pred = softmax.predict(eval_data)"
   ]
  },
  {
   "cell_type": "code",
   "execution_count": null,
   "metadata": {
    "_uuid": "8e72b1320d005ee1fe8a60e84b2de58b7abca859",
    "scrolled": false
   },
   "outputs": [],
   "source": [
    "with open('submission.csv', 'w') as submission:\n",
    "    with open('../input/movie-ratings/movie-ratings/data-splits/data.eval.anon.id', 'r') as example_ids:\n",
    "        submission.write('example_id,label\\n')\n",
    "        for example_id, label in zip(example_ids, submission_pred):\n",
    "            submission.write('{},{}\\n'.format(example_id.strip(), int(label)))"
   ]
  }
 ],
 "metadata": {
  "kernelspec": {
   "display_name": "Python 3",
   "language": "python",
   "name": "python3"
  },
  "language_info": {
   "codemirror_mode": {
    "name": "ipython",
    "version": 3
   },
   "file_extension": ".py",
   "mimetype": "text/x-python",
   "name": "python",
   "nbconvert_exporter": "python",
   "pygments_lexer": "ipython3",
   "version": "3.8.5"
  }
 },
 "nbformat": 4,
 "nbformat_minor": 1
}
